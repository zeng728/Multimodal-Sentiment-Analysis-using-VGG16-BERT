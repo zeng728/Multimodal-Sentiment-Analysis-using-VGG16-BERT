{
 "cells": [
  {
   "cell_type": "code",
   "execution_count": 1,
   "id": "9a062763",
   "metadata": {},
   "outputs": [],
   "source": [
    "import h5py\n",
    "import numpy as np\n",
    "def byte2str(data):\n",
    "    data = list(data)\n",
    "    for i, item in enumerate(data):\n",
    "        data[i] = item.decode('utf-8')\n",
    "    return data\n",
    "def load_dataset(file_path, train_ratio=0.8, random_seed=1):\n",
    "    # Load the dataset from the file\n",
    "    with h5py.File( file_path , 'r') as f:\n",
    "        data = {}\n",
    "        for key in f.keys():\n",
    "            data[key] = np.array(f[key])\n",
    "\n",
    "    # Shuffle the data indices\n",
    "    num_examples = len(data['labels'])\n",
    "    indices = np.arange(num_examples)\n",
    "    if random_seed is not None:\n",
    "        np.random.seed(random_seed)\n",
    "    np.random.shuffle(indices)\n",
    "\n",
    "    # Split the data into training and testing sets\n",
    "    split_index = int(num_examples * train_ratio)\n",
    "    train_indices = indices[:split_index]\n",
    "    test_indices = indices[split_index:]\n",
    "    train_data = {key: data[key][train_indices] for key in data}\n",
    "    test_data = {key: data[key][test_indices] for key in data}\n",
    "    \n",
    "    train_data['texts'], train_data['labels'] = byte2str(train_data['texts']), byte2str(train_data['labels'])\n",
    "    test_data['texts'], test_data['labels'] = byte2str(test_data['texts']), byte2str(test_data['labels'])\n",
    "    \n",
    "    label2id = {'negative': 0, 'neutral': 1, 'positive': 2}\n",
    "    train_data['labels_ids'] = [label2id[label] for label in train_data['labels']]\n",
    "    test_data['labels_ids'] = [label2id[label] for label in test_data['labels']]\n",
    "    \n",
    "    return (np.array(train_data['images']), np.array(train_data['texts']), np.array(train_data['labels']),\n",
    "            np.array(train_data['labels_ids']), np.array(test_data['images']), np.array(test_data['texts']),\n",
    "            np.array(test_data['labels']), np.array(test_data['labels_ids'])) \n",
    "\n",
    "file_path = 'MVSA_Single/dataset.h5'\n",
    "train_data , test_data = {} , {} \n",
    "train_data['image'], train_data['text'], train_data['label'], train_data['labels_id'],\\\n",
    "test_data['image'], test_data['text'], test_data['label'], test_data['labels_id']\\\n",
    "= load_dataset(file_path)"
   ]
  },
  {
   "cell_type": "code",
   "execution_count": 2,
   "id": "7c391dea",
   "metadata": {},
   "outputs": [
    {
     "name": "stderr",
     "output_type": "stream",
     "text": [
      "D:\\anaconda\\envs\\nn6\\lib\\site-packages\\tqdm\\auto.py:22: TqdmWarning: IProgress not found. Please update jupyter and ipywidgets. See https://ipywidgets.readthedocs.io/en/stable/user_install.html\n",
      "  from .autonotebook import tqdm as notebook_tqdm\n",
      "D:\\anaconda\\envs\\nn6\\lib\\site-packages\\requests\\__init__.py:104: RequestsDependencyWarning: urllib3 (1.26.15) or chardet (5.0.0)/charset_normalizer (2.0.12) doesn't match a supported version!\n",
      "  RequestsDependencyWarning)\n",
      "D:\\anaconda\\envs\\nn6\\lib\\site-packages\\tensorflow\\python\\framework\\dtypes.py:523: FutureWarning: Passing (type, 1) or '1type' as a synonym of type is deprecated; in a future version of numpy, it will be understood as (type, (1,)) / '(1,)type'.\n",
      "  _np_qint8 = np.dtype([(\"qint8\", np.int8, 1)])\n",
      "D:\\anaconda\\envs\\nn6\\lib\\site-packages\\tensorflow\\python\\framework\\dtypes.py:524: FutureWarning: Passing (type, 1) or '1type' as a synonym of type is deprecated; in a future version of numpy, it will be understood as (type, (1,)) / '(1,)type'.\n",
      "  _np_quint8 = np.dtype([(\"quint8\", np.uint8, 1)])\n",
      "D:\\anaconda\\envs\\nn6\\lib\\site-packages\\tensorflow\\python\\framework\\dtypes.py:525: FutureWarning: Passing (type, 1) or '1type' as a synonym of type is deprecated; in a future version of numpy, it will be understood as (type, (1,)) / '(1,)type'.\n",
      "  _np_qint16 = np.dtype([(\"qint16\", np.int16, 1)])\n",
      "D:\\anaconda\\envs\\nn6\\lib\\site-packages\\tensorflow\\python\\framework\\dtypes.py:526: FutureWarning: Passing (type, 1) or '1type' as a synonym of type is deprecated; in a future version of numpy, it will be understood as (type, (1,)) / '(1,)type'.\n",
      "  _np_quint16 = np.dtype([(\"quint16\", np.uint16, 1)])\n",
      "D:\\anaconda\\envs\\nn6\\lib\\site-packages\\tensorflow\\python\\framework\\dtypes.py:527: FutureWarning: Passing (type, 1) or '1type' as a synonym of type is deprecated; in a future version of numpy, it will be understood as (type, (1,)) / '(1,)type'.\n",
      "  _np_qint32 = np.dtype([(\"qint32\", np.int32, 1)])\n",
      "D:\\anaconda\\envs\\nn6\\lib\\site-packages\\tensorflow\\python\\framework\\dtypes.py:532: FutureWarning: Passing (type, 1) or '1type' as a synonym of type is deprecated; in a future version of numpy, it will be understood as (type, (1,)) / '(1,)type'.\n",
      "  np_resource = np.dtype([(\"resource\", np.ubyte, 1)])\n"
     ]
    }
   ],
   "source": [
    "from transformers import BertTokenizer\n",
    "tokenizer = BertTokenizer.from_pretrained('bert-base-uncased')\n",
    "def text2token(texts, maxlen):\n",
    "    tokens = tokenizer.batch_encode_plus(texts,\n",
    "                                         max_length=maxlen,\n",
    "                                         padding='max_length',\n",
    "                                         truncation=True,\n",
    "                                         return_tensors='pt')\n",
    "    input_ids = tokens['input_ids']\n",
    "\n",
    "    \n",
    "    return input_ids"
   ]
  },
  {
   "cell_type": "code",
   "execution_count": 3,
   "id": "ee144a70",
   "metadata": {},
   "outputs": [],
   "source": [
    "train_data['input_ids'] = text2token(train_data['text'],30)"
   ]
  },
  {
   "cell_type": "code",
   "execution_count": 4,
   "id": "9b627157",
   "metadata": {},
   "outputs": [],
   "source": [
    "import torch\n",
    "import torch.nn as nn\n",
    "from transformers import BertModel\n",
    "class TextModel(nn.Module):\n",
    "    def __init__(self, model_name, num_classes):\n",
    "        super(TextModel, self).__init__()\n",
    "        # 加载预训练模型和tokenizer\n",
    "        self.embedding = BertModel.from_pretrained(model_name)\n",
    "        # 定义线性层，用于输出分类结果\n",
    "        self.fc = nn.Linear(self.embedding.config.hidden_size, num_classes)\n",
    "        \n",
    "    def forward(self, x):\n",
    "        input_ids = x\n",
    "        # 获取BERT编码特征\n",
    "        with torch.no_grad():\n",
    "            embedding_output = self.embedding(input_ids=input_ids)[0]\n",
    "            # 取最后一层的输出作为特征表示\n",
    "            features = embedding_output[:, 0, :]\n",
    "        \n",
    "        # 使用全连接层进行分类\n",
    "        logits = self.fc(features)\n",
    "        return logits"
   ]
  },
  {
   "cell_type": "code",
   "execution_count": 5,
   "id": "f87b1335",
   "metadata": {},
   "outputs": [],
   "source": [
    "textmodel = TextModel(model_name='bert-base-uncased', num_classes=3).to('cuda')"
   ]
  },
  {
   "cell_type": "code",
   "execution_count": 6,
   "id": "52246403",
   "metadata": {},
   "outputs": [],
   "source": [
    "from torch.utils.data import Dataset, DataLoader\n",
    "\n",
    "class TextDataset(Dataset):\n",
    "    def __init__(self, data):\n",
    "        self.input_ids = data['input_ids']\n",
    "        self.labels_id = torch.tensor(data['labels_id'])\n",
    "\n",
    "    def __len__(self):\n",
    "        return len(self.input_ids)\n",
    "\n",
    "    def __getitem__(self, idx):\n",
    "        x = self.input_ids[idx]\n",
    "        y = self.labels_id[idx]\n",
    "\n",
    "        return {'input_ids': x, 'labels_id': y}\n",
    "\n",
    "textdataset = TextDataset(train_data)\n",
    "# 创建数据加载器对象\n",
    "batch_size = 32\n",
    "text_train_loader = DataLoader(textdataset, batch_size=batch_size, shuffle=True, drop_last=True)"
   ]
  },
  {
   "cell_type": "code",
   "execution_count": 7,
   "id": "d9d6ddb8",
   "metadata": {},
   "outputs": [],
   "source": [
    "import torch.optim as optim\n",
    "# 定义损失函数和优化器\n",
    "criterion = nn.CrossEntropyLoss().to('cuda')\n",
    "optimizer = optim.Adam(textmodel.parameters(), lr=0.001)"
   ]
  },
  {
   "cell_type": "code",
   "execution_count": 9,
   "id": "99665722",
   "metadata": {},
   "outputs": [
    {
     "name": "stdout",
     "output_type": "stream",
     "text": [
      "[1,   100] loss: 0.987, accuracy: 0.502\n",
      "[2,   100] loss: 0.881, accuracy: 0.593\n",
      "[3,   100] loss: 0.844, accuracy: 0.609\n",
      "[4,   100] loss: 0.814, accuracy: 0.631\n",
      "[5,   100] loss: 0.793, accuracy: 0.649\n",
      "[6,   100] loss: 0.785, accuracy: 0.649\n",
      "[7,   100] loss: 0.784, accuracy: 0.642\n",
      "[8,   100] loss: 0.768, accuracy: 0.657\n",
      "[9,   100] loss: 0.766, accuracy: 0.657\n",
      "[10,   100] loss: 0.761, accuracy: 0.664\n"
     ]
    },
    {
     "data": {
      "image/png": "[encoded data removed]",
      "text/plain": [
       "<Figure size 432x288 with 1 Axes>"
      ]
     },
     "metadata": {
      "needs_background": "light"
     },
     "output_type": "display_data"
    }
   ],
   "source": [
    "import matplotlib.pyplot as plt\n",
    "# 训练模型\n",
    "textloss_list = []\n",
    "num_epochs = 10\n",
    "for epoch in range(num_epochs):\n",
    "    running_loss = 0.0\n",
    "    correct = 0\n",
    "    total = 0\n",
    "    for i, data in enumerate(text_train_loader, 0):\n",
    "        # 获取输入数据和标签\n",
    "        inputs, labels = data['input_ids'], data['labels_id'].long()\n",
    "\n",
    "        inputs = inputs.to('cuda')\n",
    "        labels = labels.to('cuda')\n",
    "        \n",
    "        # 将梯度归零\n",
    "        optimizer.zero_grad()\n",
    "\n",
    "        # 前向传递\n",
    "        outputs = textmodel(inputs)\n",
    "\n",
    "        # 计算损失\n",
    "        loss = criterion(outputs, labels)\n",
    "\n",
    "        # 反向传播\n",
    "        loss.backward()\n",
    "\n",
    "        # 更新权重\n",
    "        optimizer.step()\n",
    "\n",
    "        # 统计损失值\n",
    "        running_loss += loss.item()\n",
    "        \n",
    "        # 统计准确率\n",
    "        _, predicted = torch.max(outputs.data, 1)\n",
    "        total += labels.size(0)\n",
    "        correct += (predicted == labels).sum().item()\n",
    "\n",
    "        # 每 200 批次打印一次统计信息\n",
    "        if i % 100 == 99:\n",
    "            print('[%d, %5d] loss: %.3f, accuracy: %.3f' %\n",
    "                  (epoch + 1, i + 1, running_loss / 100, correct / total))\n",
    "            running_loss = 0.0\n",
    "        \n",
    "        epoch_loss = running_loss / len(text_train_loader)\n",
    "        textloss_list.append(epoch_loss)\n",
    "        \n",
    "#         correct = 0\n",
    "#         total = 0\n",
    "#         with torch.no_grad():\n",
    "#             for data in text_test_loader:\n",
    "#                 inputs, labels = data['input_ids'], data['labels_id'].long()\n",
    "#                 inputs = inputs.to('cuda')\n",
    "#                 labels = labels.to('cuda')\n",
    "#                 outputs = textmodel(inputs)\n",
    "#                 _, predicted = torch.max(outputs.data, 1)\n",
    "#                 total += labels.size(0)\n",
    "#                 correct += (predicted == labels).sum().item()\n",
    "#         test_accuracy = correct / total\n",
    "#         print('Test accuracy: %.3f' % test_accuracy)\n",
    "        \n",
    "# 绘制loss下降图\n",
    "plt.plot(textloss_list)\n",
    "plt.title('Training Loss')\n",
    "plt.xlabel('Epoch')\n",
    "plt.ylabel('Loss')\n",
    "plt.show()"
   ]
  },
  {
   "cell_type": "code",
   "execution_count": null,
   "id": "20c04457",
   "metadata": {},
   "outputs": [],
   "source": []
  }
 ],
 "metadata": {
  "kernelspec": {
   "display_name": "nn6",
   "language": "python",
   "name": "nn6"
  },
  "language_info": {
   "codemirror_mode": {
    "name": "ipython",
    "version": 3
   },
   "file_extension": ".py",
   "mimetype": "text/x-python",
   "name": "python",
   "nbconvert_exporter": "python",
   "pygments_lexer": "ipython3",
   "version": "3.6.13"
  }
 },
 "nbformat": 4,
 "nbformat_minor": 5
}
