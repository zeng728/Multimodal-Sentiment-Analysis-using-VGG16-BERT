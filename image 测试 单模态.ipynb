{
 "cells": [
  {
   "cell_type": "markdown",
   "id": "f0d49f59",
   "metadata": {},
   "source": [
    "### 读取数据"
   ]
  },
  {
   "cell_type": "code",
   "execution_count": 3,
   "id": "26e2b68a",
   "metadata": {
    "scrolled": true
   },
   "outputs": [
    {
     "name": "stderr",
     "output_type": "stream",
     "text": [
      "D:\\anaconda\\envs\\nn6\\lib\\site-packages\\tqdm\\auto.py:22: TqdmWarning: IProgress not found. Please update jupyter and ipywidgets. See https://ipywidgets.readthedocs.io/en/stable/user_install.html\n",
      "  from .autonotebook import tqdm as notebook_tqdm\n",
      "D:\\anaconda\\envs\\nn6\\lib\\site-packages\\requests\\__init__.py:104: RequestsDependencyWarning: urllib3 (1.26.15) or chardet (5.0.0)/charset_normalizer (2.0.12) doesn't match a supported version!\n",
      "  RequestsDependencyWarning)\n",
      "D:\\anaconda\\envs\\nn6\\lib\\site-packages\\tensorflow\\python\\framework\\dtypes.py:523: FutureWarning: Passing (type, 1) or '1type' as a synonym of type is deprecated; in a future version of numpy, it will be understood as (type, (1,)) / '(1,)type'.\n",
      "  _np_qint8 = np.dtype([(\"qint8\", np.int8, 1)])\n",
      "D:\\anaconda\\envs\\nn6\\lib\\site-packages\\tensorflow\\python\\framework\\dtypes.py:524: FutureWarning: Passing (type, 1) or '1type' as a synonym of type is deprecated; in a future version of numpy, it will be understood as (type, (1,)) / '(1,)type'.\n",
      "  _np_quint8 = np.dtype([(\"quint8\", np.uint8, 1)])\n",
      "D:\\anaconda\\envs\\nn6\\lib\\site-packages\\tensorflow\\python\\framework\\dtypes.py:525: FutureWarning: Passing (type, 1) or '1type' as a synonym of type is deprecated; in a future version of numpy, it will be understood as (type, (1,)) / '(1,)type'.\n",
      "  _np_qint16 = np.dtype([(\"qint16\", np.int16, 1)])\n",
      "D:\\anaconda\\envs\\nn6\\lib\\site-packages\\tensorflow\\python\\framework\\dtypes.py:526: FutureWarning: Passing (type, 1) or '1type' as a synonym of type is deprecated; in a future version of numpy, it will be understood as (type, (1,)) / '(1,)type'.\n",
      "  _np_quint16 = np.dtype([(\"quint16\", np.uint16, 1)])\n",
      "D:\\anaconda\\envs\\nn6\\lib\\site-packages\\tensorflow\\python\\framework\\dtypes.py:527: FutureWarning: Passing (type, 1) or '1type' as a synonym of type is deprecated; in a future version of numpy, it will be understood as (type, (1,)) / '(1,)type'.\n",
      "  _np_qint32 = np.dtype([(\"qint32\", np.int32, 1)])\n",
      "D:\\anaconda\\envs\\nn6\\lib\\site-packages\\tensorflow\\python\\framework\\dtypes.py:532: FutureWarning: Passing (type, 1) or '1type' as a synonym of type is deprecated; in a future version of numpy, it will be understood as (type, (1,)) / '(1,)type'.\n",
      "  np_resource = np.dtype([(\"resource\", np.ubyte, 1)])\n"
     ]
    }
   ],
   "source": [
    "import h5py\n",
    "import numpy as np\n",
    "import torch\n",
    "import torch.nn as nn\n",
    "import torchvision.models as models\n",
    "from transformers import BertTokenizer\n",
    "from transformers import BertModel\n",
    "from torch.utils.data import Dataset, DataLoader\n",
    "import torch.nn.functional as F"
   ]
  },
  {
   "cell_type": "code",
   "execution_count": 1,
   "id": "6c73d668",
   "metadata": {},
   "outputs": [],
   "source": [
    "import h5py\n",
    "import numpy as np\n",
    "def byte2str(data):\n",
    "    data = list(data)\n",
    "    for i, item in enumerate(data):\n",
    "        data[i] = item.decode('utf-8')\n",
    "    return data\n",
    "def load_dataset(file_path, train_ratio=0.8, random_seed=1):\n",
    "    # Load the dataset from the file\n",
    "    with h5py.File( file_path , 'r') as f:\n",
    "        data = {}\n",
    "        for key in f.keys():\n",
    "            data[key] = np.array(f[key])\n",
    "\n",
    "    # Shuffle the data indices\n",
    "    num_examples = len(data['labels'])\n",
    "    indices = np.arange(num_examples)\n",
    "    if random_seed is not None:\n",
    "        np.random.seed(random_seed)\n",
    "    np.random.shuffle(indices)\n",
    "\n",
    "    # Split the data into training and testing sets\n",
    "    split_index = int(num_examples * train_ratio)\n",
    "    train_indices = indices[:split_index]\n",
    "    test_indices = indices[split_index:]\n",
    "    train_data = {key: data[key][train_indices] for key in data}\n",
    "    test_data = {key: data[key][test_indices] for key in data}\n",
    "    \n",
    "    train_data['texts'], train_data['labels'] = byte2str(train_data['texts']), byte2str(train_data['labels'])\n",
    "    test_data['texts'], test_data['labels'] = byte2str(test_data['texts']), byte2str(test_data['labels'])\n",
    "    \n",
    "    label2id = {'negative': 0, 'neutral': 1, 'positive': 2}\n",
    "    train_data['labels_ids'] = [label2id[label] for label in train_data['labels']]\n",
    "    test_data['labels_ids'] = [label2id[label] for label in test_data['labels']]\n",
    "    \n",
    "    return (np.array(train_data['images']), np.array(train_data['texts']), np.array(train_data['labels']),\n",
    "            np.array(train_data['labels_ids']), np.array(test_data['images']), np.array(test_data['texts']),\n",
    "            np.array(test_data['labels']), np.array(test_data['labels_ids'])) \n",
    "\n",
    "file_path = 'MVSA_Single/dataset.h5'\n",
    "train_data , test_data = {} , {} \n",
    "train_data['image'], train_data['text'], train_data['label'], train_data['labels_id'],\\\n",
    "test_data['image'], test_data['text'], test_data['label'], test_data['labels_id']\\\n",
    "= load_dataset(file_path)"
   ]
  },
  {
   "cell_type": "code",
   "execution_count": 4,
   "id": "82bb6dea",
   "metadata": {},
   "outputs": [],
   "source": [
    "class ImageModel(nn.Module):\n",
    "    def __init__(self):\n",
    "        super(ImageModel, self).__init__()\n",
    "        #加载VGG16预训练模型\n",
    "        self.vgg16 = models.vgg16(pretrained=True)\n",
    "        # 去掉全连接层\n",
    "        self.features = nn.Sequential(*list(self.vgg16.children())[:-1])\n",
    "        # 冻结参数\n",
    "        for param in self.features.parameters():\n",
    "            param.requires_grad = False\n",
    "        # 添加新的全连接层以便训练任务\n",
    "        self.fc1 = nn.Linear(512 * 7 * 7, 256)\n",
    "        self.fc2 = nn.Linear(256, 3)\n",
    " \n",
    "    def forward(self, x_image):\n",
    "        # 将图像作为VGG16的输入\n",
    "        features = self.features(x_image)\n",
    "        # 将输出的特征展开\n",
    "        flatten = nn.Flatten()(features)\n",
    "        # 用全连接层提取特征\n",
    "        fc1_out = self.fc1(flatten)\n",
    "        \n",
    "        # Apply the second fully connected layer\n",
    "        fc2_out = self.fc2(fc1_out)\n",
    "        \n",
    "        # Apply softmax activation to obtain class probabilities\n",
    "        prob_out = F.softmax(fc2_out, dim=1)\n",
    "        \n",
    "        return prob_out\n",
    "#         return fc1_out"
   ]
  },
  {
   "cell_type": "code",
   "execution_count": 6,
   "id": "eef07070",
   "metadata": {},
   "outputs": [],
   "source": [
    "from torch.utils.data import Dataset, DataLoader\n",
    "import torch.nn.functional as F\n",
    "\n",
    "class ImgDataset(Dataset):\n",
    "    def __init__(self, data, transform=None):\n",
    "        self.data = data\n",
    "        self.transform = transform\n",
    "\n",
    "    def __len__(self):\n",
    "        return len(self.data['image'])\n",
    "\n",
    "    def __getitem__(self, index):\n",
    "        x = self.data['image'][index]\n",
    "        x = x.transpose((2, 0, 1))\n",
    "        # 转换图像数据类型为 float32\n",
    "        x = x.astype('float32')\n",
    "        # 归一化图像数据到 [0, 1] 区间\n",
    "        x /= 255\n",
    "        \n",
    "        y = self.data['labels_id'][index]\n",
    "\n",
    "        if self.transform:\n",
    "            x = self.transform(x)\n",
    "\n",
    "        return {'image': x, 'labels_id': y}\n",
    "\n",
    "# 创建数据集对象\n",
    "imgdataset = ImgDataset(train_data)\n",
    "# textdataset = TextDatasert(train_data)\n",
    "# 创建数据加载器对象\n",
    "batch_size = 32\n",
    "img_train_loader = DataLoader(imgdataset, batch_size=batch_size, shuffle=True, drop_last=True)\n",
    "# text_train_loader = DataLoader(textdataset, batch_size=batch_size, shuffle=True, drop_last=True)"
   ]
  },
  {
   "cell_type": "code",
   "execution_count": 15,
   "id": "e20e1b20",
   "metadata": {},
   "outputs": [],
   "source": [
    "imgmodel = ImageModel().to('cuda')"
   ]
  },
  {
   "cell_type": "code",
   "execution_count": 17,
   "id": "f174ae58",
   "metadata": {},
   "outputs": [],
   "source": [
    "import torch.optim as optim\n",
    "# 定义损失函数和优化器\n",
    "criterion = nn.CrossEntropyLoss().to('cuda')\n",
    "optimizer = optim.Adam(imgmodel.parameters(), lr=0.0001)"
   ]
  },
  {
   "cell_type": "code",
   "execution_count": 20,
   "id": "df644fe7",
   "metadata": {},
   "outputs": [
    {
     "name": "stdout",
     "output_type": "stream",
     "text": [
      "[1,    20] loss: 0.246\n",
      "[1,    40] loss: 0.244\n",
      "[1,    60] loss: 0.247\n",
      "[1,    80] loss: 0.252\n",
      "[1,   100] loss: 0.246\n",
      "[1,   120] loss: 0.244\n",
      "[2,    20] loss: 0.244\n",
      "[2,    40] loss: 0.241\n",
      "[2,    60] loss: 0.242\n",
      "[2,    80] loss: 0.246\n",
      "[2,   100] loss: 0.246\n",
      "[2,   120] loss: 0.248\n",
      "[3,    20] loss: 0.242\n",
      "[3,    40] loss: 0.243\n",
      "[3,    60] loss: 0.246\n",
      "[3,    80] loss: 0.245\n",
      "[3,   100] loss: 0.244\n",
      "[3,   120] loss: 0.245\n"
     ]
    },
    {
     "data": {
      "image/png": "[encoded data removed]",
      "text/plain": [
       "<Figure size 432x288 with 1 Axes>"
      ]
     },
     "metadata": {
      "needs_background": "light"
     },
     "output_type": "display_data"
    }
   ],
   "source": [
    "import matplotlib.pyplot as plt\n",
    "# 训练模型\n",
    "imgloss_list = []\n",
    "num_epochs = 3\n",
    "for epoch in range(num_epochs):\n",
    "    running_loss = 0.0\n",
    "    for i, data in enumerate(img_train_loader, 0):\n",
    "        # 获取输入数据和标签\n",
    "        inputs, labels = data['image'], data['labels_id'].long()\n",
    "\n",
    "        inputs = inputs.to('cuda')\n",
    "        labels = labels.to('cuda')\n",
    "        \n",
    "        # 将梯度归零\n",
    "        optimizer.zero_grad()\n",
    "\n",
    "        # 前向传递\n",
    "        outputs = imgmodel(inputs)\n",
    "\n",
    "        # 计算损失\n",
    "        loss = criterion(outputs, labels)\n",
    "\n",
    "        # 反向传播\n",
    "        loss.backward()\n",
    "\n",
    "        # 更新权重\n",
    "        optimizer.step()\n",
    "\n",
    "        # 统计损失值\n",
    "        running_loss += loss.item()\n",
    "\n",
    "        # 每 200 批次打印一次统计信息\n",
    "        if i % 20 == 19:\n",
    "            print('[%d, %5d] loss: %.3f' %\n",
    "                  (epoch + 1, i + 1, running_loss / 50))\n",
    "            running_loss = 0.0\n",
    "        \n",
    "        epoch_loss = running_loss / len(img_train_loader)\n",
    "        imgloss_list.append(epoch_loss)\n",
    "        \n",
    "# 绘制loss下降图\n",
    "plt.plot(imgloss_list)\n",
    "plt.title('Training Loss')\n",
    "plt.xlabel('Epoch')\n",
    "plt.ylabel('Loss')\n",
    "plt.show()"
   ]
  },
  {
   "cell_type": "code",
   "execution_count": null,
   "id": "852325ee",
   "metadata": {},
   "outputs": [],
   "source": []
  }
 ],
 "metadata": {
  "kernelspec": {
   "display_name": "nn6",
   "language": "python",
   "name": "nn6"
  },
  "language_info": {
   "codemirror_mode": {
    "name": "ipython",
    "version": 3
   },
   "file_extension": ".py",
   "mimetype": "text/x-python",
   "name": "python",
   "nbconvert_exporter": "python",
   "pygments_lexer": "ipython3",
   "version": "3.6.13"
  }
 },
 "nbformat": 4,
 "nbformat_minor": 5
}
