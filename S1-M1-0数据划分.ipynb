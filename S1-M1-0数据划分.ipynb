{
 "cells": [
  {
   "cell_type": "markdown",
   "id": "38842b8f",
   "metadata": {},
   "source": [
    "\n",
    "## 2023/4/19已运行\n",
    "\n",
    "**小标题**\n",
    "- 标题内容\n",
    "####\n",
    "* 次级\n",
    "-"
   ]
  },
  {
   "cell_type": "markdown",
   "id": "9da2a26e",
   "metadata": {},
   "source": [
    "读取标签文件，将索引和标签存储到一个字典中,其中，`label_file` 是存放标签的文件路径。"
   ]
  },
  {
   "cell_type": "code",
   "execution_count": 26,
   "id": "6018658d",
   "metadata": {},
   "outputs": [],
   "source": [
    "label_dict = {}\n",
    "label_file = 'MVSA_Single\\labelFirst.txt'\n",
    "with open(label_file, 'r') as f:\n",
    "    lines = f.readlines()\n",
    "    for line in lines:\n",
    "        index, label = line.strip().split('\t')\n",
    "        label_dict[index] = label"
   ]
  },
  {
   "cell_type": "markdown",
   "id": "c7b80957",
   "metadata": {},
   "source": [
    "通过随机抽样的方式将数据集划分为训练集和测试集。其中，`test_ratio` 是测试集占总数据集的比例，例如 `test_ratio=0.2` 表示测试集占总数据集的20%。"
   ]
  },
  {
   "cell_type": "code",
   "execution_count": 21,
   "id": "22d1ddea",
   "metadata": {},
   "outputs": [],
   "source": [
    "import random\n",
    "\n",
    "# 设置随机数种子，保证可重复性\n",
    "random.seed(1)\n",
    "\n",
    "test_ratio = 0.2\n",
    "\n",
    "# 获取所有索引\n",
    "all_indexes = list(label_dict.keys())\n",
    "\n",
    "# 随机抽样获取测试集的索引\n",
    "test_indexes = random.sample(all_indexes, int(len(all_indexes) * test_ratio))\n",
    "\n",
    "# 将剩余索引作为训练集的索引\n",
    "train_indexes = list(set(all_indexes) - set(test_indexes))\n"
   ]
  },
  {
   "cell_type": "markdown",
   "id": "60c86a8e",
   "metadata": {},
   "source": [
    "创建两个文件夹来存放训练集和测试集"
   ]
  },
  {
   "cell_type": "code",
   "execution_count": 22,
   "id": "fa893822",
   "metadata": {},
   "outputs": [],
   "source": [
    "import os\n",
    "\n",
    "data_train = 'MVSA_Single\\data_train'\n",
    "data_test = 'MVSA_Single\\data_test'\n",
    "\n",
    "if not os.path.exists(data_train):\n",
    "    os.mkdir(data_train)\n",
    "if not os.path.exists(data_test):\n",
    "    os.mkdir(data_test)\n"
   ]
  },
  {
   "cell_type": "markdown",
   "id": "26b12eda",
   "metadata": {},
   "source": [
    "根据训练集和测试集的索引将对应的文本和图片文件复制到相应的文件夹中,其中，`text_folder` 和 `image_folder` 分别是存放文本和图片的文件夹路径。"
   ]
  },
  {
   "cell_type": "code",
   "execution_count": 23,
   "id": "82831fc0",
   "metadata": {},
   "outputs": [],
   "source": [
    "import shutil\n",
    "\n",
    "data_path='MVSA_Single\\data'\n",
    "\n",
    "# 将训练集的文件复制到 data_train 文件夹中\n",
    "for index in train_indexes:\n",
    "    text_file = f'{data_path}\\\\{index}.txt'\n",
    "    image_file = f'{data_path}\\\\{index}.jpg'\n",
    "    label = label_dict[index]\n",
    "    target_folder = f'{data_train}'\n",
    "    if not os.path.exists(target_folder):\n",
    "        os.mkdir(target_folder)\n",
    "    shutil.copy(text_file, target_folder)\n",
    "    shutil.copy(image_file, target_folder)\n",
    "\n",
    "# 将测试集的文件复制到 data_test 文件夹中\n",
    "for index in test_indexes:\n",
    "    text_file = f'{data_path}\\\\{index}.txt'\n",
    "    image_file = f'{data_path}\\\\{index}.jpg'\n",
    "    label = label_dict[index]\n",
    "    target_folder = f'{data_test}'\n",
    "    if not os.path.exists(target_folder):\n",
    "        os.mkdir(target_folder)\n",
    "    shutil.copy(text_file, target_folder)\n",
    "    shutil.copy(image_file, target_folder)\n"
   ]
  },
  {
   "cell_type": "code",
   "execution_count": 24,
   "id": "fee98c0b",
   "metadata": {},
   "outputs": [],
   "source": [
    "train_label_file = open('MVSA_Single/train_label.txt', 'w')\n",
    "test_label_file = open('MVSA_Single/test_label.txt', 'w')\n",
    "\n",
    "for index in label_dict:\n",
    "    if index in train_indexes:\n",
    "        train_label_file.write(str(index) + '\\t' + str(label_dict[index]) + '\\n')\n",
    "    elif index in test_indexes:\n",
    "        test_label_file.write(str(index) + '\\t' + str(label_dict[index]) + '\\n')\n",
    "\n",
    "train_label_file.close()\n",
    "test_label_file.close()"
   ]
  },
  {
   "cell_type": "code",
   "execution_count": 31,
   "id": "867947dc",
   "metadata": {},
   "outputs": [],
   "source": [
    "all_label_dict = {}\n",
    "train_label = {}\n",
    "train_label_file = 'MVSA_Single/train_label.txt'\n",
    "with open(train_label_file, 'r') as f:\n",
    "    lines = f.readlines()\n",
    "    for line in lines:\n",
    "        index, label = line.strip().split('\t')\n",
    "        label_dict[index] = label\n",
    "test_label = {}\n",
    "test_label_file =  'MVSA_Single/test_label.txt'\n",
    "with open(test_label_file, 'r') as f:\n",
    "    lines = f.readlines()\n",
    "    for line in lines:\n",
    "        index, label = line.strip().split('\t')\n",
    "        label_dict[index] = label\n",
    "all_indexes = list(set(train_label) + set(test_indexes))"
   ]
  }
 ],
 "metadata": {
  "kernelspec": {
   "display_name": "nn6",
   "language": "python",
   "name": "nn6"
  },
  "language_info": {
   "codemirror_mode": {
    "name": "ipython",
    "version": 3
   },
   "file_extension": ".py",
   "mimetype": "text/x-python",
   "name": "python",
   "nbconvert_exporter": "python",
   "pygments_lexer": "ipython3",
   "version": "3.6.13"
  }
 },
 "nbformat": 4,
 "nbformat_minor": 5
}
