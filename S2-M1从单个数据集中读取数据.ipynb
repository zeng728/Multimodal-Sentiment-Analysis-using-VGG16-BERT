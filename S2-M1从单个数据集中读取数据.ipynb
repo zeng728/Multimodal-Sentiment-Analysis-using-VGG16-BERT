{
 "cells": [
  {
   "cell_type": "code",
   "execution_count": 1,
   "id": "4acbf445",
   "metadata": {},
   "outputs": [],
   "source": [
    "import h5py\n",
    "import numpy as np"
   ]
  },
  {
   "cell_type": "code",
   "execution_count": 2,
   "id": "ab3e4207",
   "metadata": {},
   "outputs": [],
   "source": [
    "def byte2str(data):\n",
    "    data = list(data)\n",
    "    for i, item in enumerate(data):\n",
    "        data[i] = item.decode('utf-8')\n",
    "    return data"
   ]
  },
  {
   "cell_type": "code",
   "execution_count": 3,
   "id": "03f1393d",
   "metadata": {},
   "outputs": [],
   "source": [
    "def load_dataset(train_file_path, text_file_path):\n",
    "    # Load the dataset from the file\n",
    "    with h5py.File( train_file_path , 'r') as f:\n",
    "        data = {}\n",
    "        for key in f.keys():\n",
    "            data[key] = np.array(f[key])\n",
    "    train_data = {key: data[key] for key in data}\n",
    "\n",
    "\n",
    "    with h5py.File( train_file_path , 'r') as f:\n",
    "        data = {}\n",
    "        for key in f.keys():\n",
    "            data[key] = np.array(f[key])\n",
    "    test_data = {key: data[key] for key in data}\n",
    "    \n",
    "    train_data['texts'], train_data['labels'] = byte2str(train_data['texts']), byte2str(train_data['labels'])\n",
    "    test_data['texts'], test_data['labels'] = byte2str(test_data['texts']), byte2str(test_data['labels'])\n",
    "    \n",
    "    label2id = {'negative': 0, 'neutral': 1, 'positive': 2}\n",
    "    train_data['labels_ids'] = [label2id[label] for label in train_data['labels']]\n",
    "    test_data['labels_ids'] = [label2id[label] for label in test_data['labels']]\n",
    "    \n",
    "    return train_data['images'], train_data['texts'], train_data['labels'], train_data['labels_ids'],\\\n",
    "           test_data['images'], test_data['texts'], test_data['labels'], test_data['labels_ids']"
   ]
  },
  {
   "cell_type": "code",
   "execution_count": 4,
   "id": "7bb78d92",
   "metadata": {},
   "outputs": [],
   "source": [
    "train_file_path = 'MVSA_Single/data_train.h5'\n",
    "text_file_path = 'MVSA_Single/data_test.h5'"
   ]
  },
  {
   "cell_type": "code",
   "execution_count": 6,
   "id": "61fe04b5",
   "metadata": {},
   "outputs": [],
   "source": [
    "train_data , test_data = {} , {} \n",
    "train_data['image'], train_data['text'], train_data['label'], train_data['labels_id'],\\\n",
    "test_data['image'], test_data['text'], test_data['label'], test_data['labels_id']\\\n",
    "= load_dataset(train_file_path, text_file_path)"
   ]
  },
  {
   "cell_type": "code",
   "execution_count": null,
   "id": "42a46bb7",
   "metadata": {},
   "outputs": [],
   "source": []
  }
 ],
 "metadata": {
  "kernelspec": {
   "display_name": "nn6",
   "language": "python",
   "name": "nn6"
  },
  "language_info": {
   "codemirror_mode": {
    "name": "ipython",
    "version": 3
   },
   "file_extension": ".py",
   "mimetype": "text/x-python",
   "name": "python",
   "nbconvert_exporter": "python",
   "pygments_lexer": "ipython3",
   "version": "3.6.13"
  }
 },
 "nbformat": 4,
 "nbformat_minor": 5
}
