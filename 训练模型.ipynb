{
 "cells": [
  {
   "cell_type": "markdown",
   "id": "d32810ee",
   "metadata": {},
   "source": [
    "### 导入包"
   ]
  },
  {
   "cell_type": "code",
   "execution_count": 1,
   "id": "18f0cd19",
   "metadata": {},
   "outputs": [
    {
     "name": "stderr",
     "output_type": "stream",
     "text": [
      "D:\\anaconda\\envs\\nn6\\lib\\site-packages\\tqdm\\auto.py:22: TqdmWarning: IProgress not found. Please update jupyter and ipywidgets. See https://ipywidgets.readthedocs.io/en/stable/user_install.html\n",
      "  from .autonotebook import tqdm as notebook_tqdm\n",
      "D:\\anaconda\\envs\\nn6\\lib\\site-packages\\requests\\__init__.py:104: RequestsDependencyWarning: urllib3 (1.26.15) or chardet (5.0.0)/charset_normalizer (2.0.12) doesn't match a supported version!\n",
      "  RequestsDependencyWarning)\n",
      "D:\\anaconda\\envs\\nn6\\lib\\site-packages\\tensorflow\\python\\framework\\dtypes.py:523: FutureWarning: Passing (type, 1) or '1type' as a synonym of type is deprecated; in a future version of numpy, it will be understood as (type, (1,)) / '(1,)type'.\n",
      "  _np_qint8 = np.dtype([(\"qint8\", np.int8, 1)])\n",
      "D:\\anaconda\\envs\\nn6\\lib\\site-packages\\tensorflow\\python\\framework\\dtypes.py:524: FutureWarning: Passing (type, 1) or '1type' as a synonym of type is deprecated; in a future version of numpy, it will be understood as (type, (1,)) / '(1,)type'.\n",
      "  _np_quint8 = np.dtype([(\"quint8\", np.uint8, 1)])\n",
      "D:\\anaconda\\envs\\nn6\\lib\\site-packages\\tensorflow\\python\\framework\\dtypes.py:525: FutureWarning: Passing (type, 1) or '1type' as a synonym of type is deprecated; in a future version of numpy, it will be understood as (type, (1,)) / '(1,)type'.\n",
      "  _np_qint16 = np.dtype([(\"qint16\", np.int16, 1)])\n",
      "D:\\anaconda\\envs\\nn6\\lib\\site-packages\\tensorflow\\python\\framework\\dtypes.py:526: FutureWarning: Passing (type, 1) or '1type' as a synonym of type is deprecated; in a future version of numpy, it will be understood as (type, (1,)) / '(1,)type'.\n",
      "  _np_quint16 = np.dtype([(\"quint16\", np.uint16, 1)])\n",
      "D:\\anaconda\\envs\\nn6\\lib\\site-packages\\tensorflow\\python\\framework\\dtypes.py:527: FutureWarning: Passing (type, 1) or '1type' as a synonym of type is deprecated; in a future version of numpy, it will be understood as (type, (1,)) / '(1,)type'.\n",
      "  _np_qint32 = np.dtype([(\"qint32\", np.int32, 1)])\n",
      "D:\\anaconda\\envs\\nn6\\lib\\site-packages\\tensorflow\\python\\framework\\dtypes.py:532: FutureWarning: Passing (type, 1) or '1type' as a synonym of type is deprecated; in a future version of numpy, it will be understood as (type, (1,)) / '(1,)type'.\n",
      "  np_resource = np.dtype([(\"resource\", np.ubyte, 1)])\n"
     ]
    }
   ],
   "source": [
    "import h5py\n",
    "import numpy as np\n",
    "import torch\n",
    "import torch.nn as nn\n",
    "import torchvision.models as models\n",
    "from transformers import BertTokenizer\n",
    "from transformers import BertModel\n",
    "from torch.utils.data import Dataset, DataLoader\n",
    "import torch.nn.functional as F"
   ]
  },
  {
   "cell_type": "markdown",
   "id": "bee8fc68",
   "metadata": {},
   "source": [
    "### 加载数据"
   ]
  },
  {
   "cell_type": "code",
   "execution_count": 2,
   "id": "07e7cdea",
   "metadata": {},
   "outputs": [],
   "source": [
    "def byte2str(data):\n",
    "    data = list(data)\n",
    "    for i, item in enumerate(data):\n",
    "        data[i] = item.decode('utf-8')\n",
    "    return data\n",
    "\n",
    "def load_dataset(file_path, train_ratio=0.8, random_seed=1):\n",
    "    # Load the dataset from the file\n",
    "    with h5py.File( file_path , 'r') as f:\n",
    "        data = {}\n",
    "        for key in f.keys():\n",
    "            data[key] = np.array(f[key])\n",
    "\n",
    "    # Shuffle the data indices\n",
    "    num_examples = len(data['labels'])\n",
    "    indices = np.arange(num_examples)\n",
    "    if random_seed is not None:\n",
    "        np.random.seed(random_seed)\n",
    "    np.random.shuffle(indices)\n",
    "\n",
    "    # Split the data into training and testing sets\n",
    "    split_index = int(num_examples * train_ratio)\n",
    "    train_indices = indices[:split_index]\n",
    "    test_indices = indices[split_index:]\n",
    "    train_data = {key: data[key][train_indices] for key in data}\n",
    "    test_data = {key: data[key][test_indices] for key in data}\n",
    "    \n",
    "    train_data['texts'], train_data['labels'] = byte2str(train_data['texts']), byte2str(train_data['labels'])\n",
    "    test_data['texts'], test_data['labels'] = byte2str(test_data['texts']), byte2str(test_data['labels'])\n",
    "    \n",
    "    label2id = {'negative': 0, 'neutral': 1, 'positive': 2}\n",
    "    train_data['labels_ids'] = [label2id[label] for label in train_data['labels']]\n",
    "    test_data['labels_ids'] = [label2id[label] for label in test_data['labels']]\n",
    "    \n",
    "    return (np.array(train_data['images']), np.array(train_data['texts']), np.array(train_data['labels']),\n",
    "            np.array(train_data['labels_ids']), np.array(test_data['images']), np.array(test_data['texts']),\n",
    "            np.array(test_data['labels']), np.array(test_data['labels_ids'])) "
   ]
  },
  {
   "cell_type": "code",
   "execution_count": 3,
   "id": "f0d4fce5",
   "metadata": {},
   "outputs": [],
   "source": [
    "file_path = 'MVSA_Single/dataset.h5'\n",
    "train_data , test_data = {} , {} \n",
    "train_data['image'], train_data['text'], train_data['label'], train_data['labels_id'],\\\n",
    "test_data['image'], test_data['text'], test_data['label'], test_data['labels_id']\\\n",
    "= load_dataset(file_path)"
   ]
  },
  {
   "cell_type": "markdown",
   "id": "4f6d30b6",
   "metadata": {
    "scrolled": true
   },
   "source": [
    "### 预处理文本"
   ]
  },
  {
   "cell_type": "code",
   "execution_count": 4,
   "id": "78a90f81",
   "metadata": {},
   "outputs": [],
   "source": [
    "tokenizer = BertTokenizer.from_pretrained('bert-base-uncased')\n",
    "def text2token(texts, maxlen):\n",
    "    tokens = tokenizer.batch_encode_plus(texts,\n",
    "                                         max_length=maxlen,\n",
    "                                         padding='max_length',\n",
    "                                         truncation=True,\n",
    "                                         return_tensors='pt')\n",
    "    input_ids = tokens['input_ids']\n",
    "\n",
    "    \n",
    "    return input_ids"
   ]
  },
  {
   "cell_type": "code",
   "execution_count": 5,
   "id": "81c16801",
   "metadata": {},
   "outputs": [],
   "source": [
    "train_data['input_ids'] = text2token(train_data['text'],30)\n",
    "test_data['input_ids'] = text2token(test_data['text'],30)"
   ]
  },
  {
   "cell_type": "markdown",
   "id": "8efca25d",
   "metadata": {},
   "source": [
    "### 定义ImageModel"
   ]
  },
  {
   "cell_type": "code",
   "execution_count": 6,
   "id": "aaaa8cd5",
   "metadata": {},
   "outputs": [],
   "source": [
    "class ImageModel(nn.Module):\n",
    "    def __init__(self):\n",
    "        super(ImageModel, self).__init__()\n",
    "        #加载VGG16预训练模型\n",
    "        self.vgg16 = models.vgg16(pretrained=True)\n",
    "        # 去掉全连接层\n",
    "        self.features = nn.Sequential(*list(self.vgg16.children())[:-1])\n",
    "        # 冻结参数\n",
    "        for param in self.features.parameters():\n",
    "            param.requires_grad = False\n",
    "        # 添加新的全连接层以便训练任务\n",
    "        self.fc1 = nn.Linear(512 * 7 * 7, 256)\n",
    " \n",
    "    def forward(self, x_image):\n",
    "        # 将图像作为VGG16的输入\n",
    "        features = self.features(x_image)\n",
    "        # 将输出的特征展开\n",
    "        flatten = nn.Flatten()(features)\n",
    "        # 用全连接层提取特征\n",
    "        fc1_out = self.fc1(flatten)\n",
    "\n",
    "        return fc1_out\n",
    "        "
   ]
  },
  {
   "cell_type": "markdown",
   "id": "aabd6b41",
   "metadata": {},
   "source": [
    "### 定义TextModel"
   ]
  },
  {
   "cell_type": "code",
   "execution_count": 7,
   "id": "a055ed9b",
   "metadata": {},
   "outputs": [],
   "source": [
    "class TextModel(nn.Module):\n",
    "    def __init__(self, model_name):\n",
    "        super(TextModel, self).__init__()\n",
    "        # 加载预训练模型和tokenizer\n",
    "        self.embedding = BertModel.from_pretrained(model_name)\n",
    "#         # 定义线性层，用于输出分类结果\n",
    "#         self.fc = nn.Linear(self.embedding.config.hidden_size, num_classes)\n",
    "        \n",
    "    def forward(self, x):\n",
    "        input_ids = x\n",
    "        # 获取BERT编码特征\n",
    "        with torch.no_grad():\n",
    "            embedding_output = self.embedding(input_ids=input_ids)[0]\n",
    "            # 取最后一层的输出作为特征表示\n",
    "            features = embedding_output[:, 0, :]\n",
    "        \n",
    "#         # 使用全连接层进行分类\n",
    "#         logits = self.fc(features)\n",
    "#         return logits\n",
    "        return features"
   ]
  },
  {
   "cell_type": "markdown",
   "id": "feea1e79",
   "metadata": {},
   "source": [
    "### 定义FusionModel"
   ]
  },
  {
   "cell_type": "code",
   "execution_count": 8,
   "id": "faad76c3",
   "metadata": {},
   "outputs": [],
   "source": [
    "class FusionModel(nn.Module):\n",
    "    def __init__(self, model_name, num_classes, dropout_prob = 0.5):\n",
    "        super(FusionModel, self).__init__()\n",
    "        self.num_classes = num_classes\n",
    "        self.TextModel = TextModel(model_name=model_name)\n",
    "        self.ImageModel = ImageModel()\n",
    "        # 定义融合后的全连接层\n",
    "        self.fusion_fc = nn.Sequential(\n",
    "            nn.Linear(256 + 768, 128),\n",
    "            nn.ReLU(),\n",
    "            # -------05/01-------------修改部分--------------------\n",
    "            nn.Dropout(p=dropout_prob),\n",
    "            # -------05/01-------------修改部分--------------------\n",
    "            nn.Linear(128, num_classes)\n",
    "        )\n",
    "        self.to('cuda')\n",
    "        \n",
    "    def forward(self, x):\n",
    "        x_image = x['image']\n",
    "        x_text = x['input_ids']\n",
    "        feature_image_out = self.ImageModel(x_image)\n",
    "        feature_text_out = self.TextModel(x_text)\n",
    "        #将文本特征和图像特征拼接在一起\n",
    "        fusion_fea = torch.cat((feature_image_out, feature_text_out), dim=1)\n",
    "        # 对融合后的特征进行全连接层操作\n",
    "        y_pred = self.fusion_fc(fusion_fea)\n",
    "        \n",
    "        return y_pred"
   ]
  },
  {
   "cell_type": "markdown",
   "id": "d74969a9",
   "metadata": {},
   "source": [
    "### 模型实例化"
   ]
  },
  {
   "cell_type": "code",
   "execution_count": 9,
   "id": "cd7539a2",
   "metadata": {},
   "outputs": [],
   "source": [
    "MyModel = FusionModel(model_name='bert-base-uncased', num_classes=3)"
   ]
  },
  {
   "cell_type": "markdown",
   "id": "928fa070",
   "metadata": {},
   "source": [
    "### 定义Dataset和Loader"
   ]
  },
  {
   "cell_type": "code",
   "execution_count": 10,
   "id": "616aac83",
   "metadata": {},
   "outputs": [],
   "source": [
    "class Dataset(Dataset):\n",
    "    def __init__(self, data):\n",
    "        self.image = data['image']\n",
    "        self.input_ids = data['input_ids']\n",
    "        self.labels_id = torch.tensor(data['labels_id'])\n",
    "    \n",
    "    def __len__(self):\n",
    "        return len(self.image)\n",
    "        \n",
    "    def __getitem__(self, index):\n",
    "        image = self.image[index]\n",
    "        image = image.transpose((2, 0, 1))\n",
    "        # 转换图像数据类型为 float32\n",
    "        image = image.astype('float32')\n",
    "        # 归一化图像数据到 [0, 1] 区间\n",
    "        image /= 255\n",
    "        input_ids = self.input_ids[index]\n",
    "        y = self.labels_id[index]\n",
    "\n",
    "        return {'image': image, 'input_ids':input_ids,\n",
    "                'labels_id': y}"
   ]
  },
  {
   "cell_type": "markdown",
   "id": "dbab675c",
   "metadata": {},
   "source": [
    "### 数据集实例化"
   ]
  },
  {
   "cell_type": "code",
   "execution_count": 11,
   "id": "e3a49e65",
   "metadata": {},
   "outputs": [],
   "source": [
    "train_dataset = Dataset(train_data)\n",
    "test_dataset = Dataset(test_data)\n",
    "batch_size = 32\n",
    "train_loader = DataLoader(train_dataset, batch_size=batch_size, shuffle=True, drop_last=True)\n",
    "test_loader = DataLoader(test_dataset, batch_size=batch_size, shuffle=True, drop_last=True)"
   ]
  },
  {
   "cell_type": "markdown",
   "id": "8e773ab5",
   "metadata": {},
   "source": [
    "### 定义损失函数和优化器"
   ]
  },
  {
   "cell_type": "code",
   "execution_count": 12,
   "id": "613a668b",
   "metadata": {},
   "outputs": [],
   "source": [
    "import torch.optim as optim\n",
    "# 定义损失函数和优化器\n",
    "criterion = nn.CrossEntropyLoss().to('cuda')\n",
    "optimizer = optim.Adam(MyModel.parameters(), lr=0.001\\\n",
    "#                        , weight_decay=0.01\\\n",
    "                      )"
   ]
  },
  {
   "cell_type": "markdown",
   "id": "14f0eea3",
   "metadata": {},
   "source": [
    "### 训练模型"
   ]
  },
  {
   "cell_type": "code",
   "execution_count": 13,
   "id": "47d2d3e5",
   "metadata": {},
   "outputs": [
    {
     "name": "stdout",
     "output_type": "stream",
     "text": [
      "[1,    10] loss: 1.352, accuracy: 0.362\n",
      "[1,    20] loss: 1.169, accuracy: 0.367\n",
      "[1,    30] loss: 1.130, accuracy: 0.367\n",
      "[1,    40] loss: 1.093, accuracy: 0.366\n",
      "[1,    50] loss: 1.089, accuracy: 0.362\n",
      "[1,    60] loss: 1.103, accuracy: 0.364\n",
      "[1,    70] loss: 1.124, accuracy: 0.355\n",
      "[1,    80] loss: 1.095, accuracy: 0.357\n",
      "[1,    90] loss: 1.097, accuracy: 0.362\n",
      "[1,   100] loss: 1.099, accuracy: 0.359\n",
      "[1,   110] loss: 1.079, accuracy: 0.359\n",
      "[1,   120] loss: 1.084, accuracy: 0.358\n",
      "[2,    10] loss: 1.060, accuracy: 0.378\n",
      "[2,    20] loss: 1.057, accuracy: 0.400\n",
      "[2,    30] loss: 1.046, accuracy: 0.419\n",
      "[2,    40] loss: 1.016, accuracy: 0.432\n",
      "[2,    50] loss: 1.018, accuracy: 0.449\n",
      "[2,    60] loss: 1.059, accuracy: 0.452\n",
      "[2,    70] loss: 1.047, accuracy: 0.455\n",
      "[2,    80] loss: 1.057, accuracy: 0.454\n",
      "[2,    90] loss: 1.030, accuracy: 0.451\n",
      "[2,   100] loss: 1.044, accuracy: 0.455\n",
      "[2,   110] loss: 1.016, accuracy: 0.457\n",
      "[2,   120] loss: 1.057, accuracy: 0.457\n",
      "[3,    10] loss: 0.914, accuracy: 0.547\n",
      "[3,    20] loss: 0.890, accuracy: 0.556\n",
      "[3,    30] loss: 0.885, accuracy: 0.578\n",
      "[3,    40] loss: 0.888, accuracy: 0.576\n",
      "[3,    50] loss: 0.934, accuracy: 0.566\n",
      "[3,    60] loss: 0.948, accuracy: 0.565\n",
      "[3,    70] loss: 0.919, accuracy: 0.566\n",
      "[3,    80] loss: 0.920, accuracy: 0.563\n",
      "[3,    90] loss: 0.902, accuracy: 0.566\n",
      "[3,   100] loss: 0.968, accuracy: 0.564\n",
      "[3,   110] loss: 0.957, accuracy: 0.561\n",
      "[3,   120] loss: 0.923, accuracy: 0.559\n",
      "[4,    10] loss: 0.686, accuracy: 0.713\n",
      "[4,    20] loss: 0.602, accuracy: 0.747\n",
      "[4,    30] loss: 0.631, accuracy: 0.748\n",
      "[4,    40] loss: 0.677, accuracy: 0.743\n",
      "[4,    50] loss: 0.652, accuracy: 0.739\n",
      "[4,    60] loss: 0.726, accuracy: 0.731\n",
      "[4,    70] loss: 0.773, accuracy: 0.720\n",
      "[4,    80] loss: 0.680, accuracy: 0.718\n",
      "[4,    90] loss: 0.864, accuracy: 0.711\n",
      "[4,   100] loss: 0.710, accuracy: 0.712\n",
      "[4,   110] loss: 0.746, accuracy: 0.709\n",
      "[4,   120] loss: 0.732, accuracy: 0.709\n",
      "[5,    10] loss: 0.462, accuracy: 0.831\n",
      "[5,    20] loss: 0.468, accuracy: 0.819\n",
      "[5,    30] loss: 0.527, accuracy: 0.810\n",
      "[5,    40] loss: 0.515, accuracy: 0.802\n",
      "[5,    50] loss: 0.546, accuracy: 0.802\n",
      "[5,    60] loss: 0.517, accuracy: 0.806\n",
      "[5,    70] loss: 0.547, accuracy: 0.803\n",
      "[5,    80] loss: 0.536, accuracy: 0.800\n",
      "[5,    90] loss: 0.614, accuracy: 0.797\n",
      "[5,   100] loss: 0.574, accuracy: 0.793\n",
      "[5,   110] loss: 0.603, accuracy: 0.792\n",
      "[5,   120] loss: 0.469, accuracy: 0.794\n",
      "[6,    10] loss: 0.293, accuracy: 0.894\n",
      "[6,    20] loss: 0.283, accuracy: 0.894\n",
      "[6,    30] loss: 0.447, accuracy: 0.880\n",
      "[6,    40] loss: 0.361, accuracy: 0.879\n",
      "[6,    50] loss: 0.394, accuracy: 0.879\n",
      "[6,    60] loss: 0.358, accuracy: 0.875\n",
      "[6,    70] loss: 0.294, accuracy: 0.876\n",
      "[6,    80] loss: 0.469, accuracy: 0.867\n",
      "[6,    90] loss: 0.393, accuracy: 0.865\n",
      "[6,   100] loss: 0.410, accuracy: 0.862\n",
      "[6,   110] loss: 0.371, accuracy: 0.863\n",
      "[6,   120] loss: 0.316, accuracy: 0.865\n",
      "[7,    10] loss: 0.197, accuracy: 0.909\n",
      "[7,    20] loss: 0.186, accuracy: 0.919\n",
      "[7,    30] loss: 0.226, accuracy: 0.923\n",
      "[7,    40] loss: 0.464, accuracy: 0.900\n",
      "[7,    50] loss: 0.481, accuracy: 0.887\n",
      "[7,    60] loss: 0.372, accuracy: 0.884\n",
      "[7,    70] loss: 0.418, accuracy: 0.883\n",
      "[7,    80] loss: 0.354, accuracy: 0.884\n",
      "[7,    90] loss: 0.405, accuracy: 0.878\n",
      "[7,   100] loss: 0.337, accuracy: 0.880\n",
      "[7,   110] loss: 0.327, accuracy: 0.882\n",
      "[7,   120] loss: 0.286, accuracy: 0.885\n",
      "[8,    10] loss: 0.210, accuracy: 0.931\n",
      "[8,    20] loss: 0.176, accuracy: 0.941\n",
      "[8,    30] loss: 0.177, accuracy: 0.939\n",
      "[8,    40] loss: 0.190, accuracy: 0.934\n",
      "[8,    50] loss: 0.209, accuracy: 0.935\n",
      "[8,    60] loss: 0.141, accuracy: 0.937\n",
      "[8,    70] loss: 0.221, accuracy: 0.936\n",
      "[8,    80] loss: 0.242, accuracy: 0.934\n",
      "[8,    90] loss: 0.205, accuracy: 0.933\n",
      "[8,   100] loss: 0.277, accuracy: 0.932\n",
      "[8,   110] loss: 0.237, accuracy: 0.931\n",
      "[8,   120] loss: 0.156, accuracy: 0.933\n",
      "[9,    10] loss: 0.163, accuracy: 0.950\n",
      "[9,    20] loss: 0.142, accuracy: 0.950\n",
      "[9,    30] loss: 0.149, accuracy: 0.950\n",
      "[9,    40] loss: 0.188, accuracy: 0.948\n",
      "[9,    50] loss: 0.149, accuracy: 0.949\n",
      "[9,    60] loss: 0.268, accuracy: 0.945\n",
      "[9,    70] loss: 0.181, accuracy: 0.944\n",
      "[9,    80] loss: 0.278, accuracy: 0.939\n",
      "[9,    90] loss: 0.157, accuracy: 0.939\n",
      "[9,   100] loss: 0.262, accuracy: 0.935\n",
      "[9,   110] loss: 0.214, accuracy: 0.932\n",
      "[9,   120] loss: 0.284, accuracy: 0.932\n",
      "[10,    10] loss: 0.179, accuracy: 0.944\n",
      "[10,    20] loss: 0.100, accuracy: 0.958\n",
      "[10,    30] loss: 0.177, accuracy: 0.957\n",
      "[10,    40] loss: 0.108, accuracy: 0.955\n",
      "[10,    50] loss: 0.129, accuracy: 0.956\n",
      "[10,    60] loss: 0.181, accuracy: 0.954\n",
      "[10,    70] loss: 0.104, accuracy: 0.955\n",
      "[10,    80] loss: 0.252, accuracy: 0.950\n",
      "[10,    90] loss: 0.287, accuracy: 0.943\n",
      "[10,   100] loss: 0.323, accuracy: 0.938\n",
      "[10,   110] loss: 0.252, accuracy: 0.937\n",
      "[10,   120] loss: 0.225, accuracy: 0.935\n",
      "[11,    10] loss: 0.141, accuracy: 0.941\n",
      "[11,    20] loss: 0.076, accuracy: 0.952\n",
      "[11,    30] loss: 0.123, accuracy: 0.953\n",
      "[11,    40] loss: 0.125, accuracy: 0.952\n",
      "[11,    50] loss: 0.102, accuracy: 0.953\n",
      "[11,    60] loss: 0.141, accuracy: 0.952\n",
      "[11,    70] loss: 0.178, accuracy: 0.948\n",
      "[11,    80] loss: 0.268, accuracy: 0.944\n",
      "[11,    90] loss: 0.165, accuracy: 0.943\n",
      "[11,   100] loss: 0.234, accuracy: 0.942\n",
      "[11,   110] loss: 0.215, accuracy: 0.941\n",
      "[11,   120] loss: 0.213, accuracy: 0.940\n",
      "[12,    10] loss: 0.074, accuracy: 0.975\n",
      "[12,    20] loss: 0.072, accuracy: 0.972\n",
      "[12,    30] loss: 0.107, accuracy: 0.968\n",
      "[12,    40] loss: 0.189, accuracy: 0.960\n",
      "[12,    50] loss: 0.134, accuracy: 0.958\n",
      "[12,    60] loss: 0.154, accuracy: 0.958\n",
      "[12,    70] loss: 0.145, accuracy: 0.958\n",
      "[12,    80] loss: 0.145, accuracy: 0.958\n",
      "[12,    90] loss: 0.073, accuracy: 0.959\n",
      "[12,   100] loss: 0.106, accuracy: 0.960\n",
      "[12,   110] loss: 0.128, accuracy: 0.959\n",
      "[12,   120] loss: 0.128, accuracy: 0.959\n",
      "[13,    10] loss: 0.122, accuracy: 0.966\n",
      "[13,    20] loss: 0.116, accuracy: 0.959\n",
      "[13,    30] loss: 0.083, accuracy: 0.963\n",
      "[13,    40] loss: 0.103, accuracy: 0.964\n",
      "[13,    50] loss: 0.170, accuracy: 0.960\n",
      "[13,    60] loss: 0.158, accuracy: 0.956\n",
      "[13,    70] loss: 0.193, accuracy: 0.955\n",
      "[13,    80] loss: 0.131, accuracy: 0.954\n",
      "[13,    90] loss: 0.271, accuracy: 0.952\n",
      "[13,   100] loss: 0.101, accuracy: 0.954\n",
      "[13,   110] loss: 0.123, accuracy: 0.955\n",
      "[13,   120] loss: 0.113, accuracy: 0.956\n",
      "[14,    10] loss: 0.058, accuracy: 0.969\n",
      "[14,    20] loss: 0.064, accuracy: 0.975\n",
      "[14,    30] loss: 0.056, accuracy: 0.981\n"
     ]
    },
    {
     "ename": "KeyboardInterrupt",
     "evalue": "",
     "output_type": "error",
     "traceback": [
      "\u001b[1;31m---------------------------------------------------------------------------\u001b[0m",
      "\u001b[1;31mKeyboardInterrupt\u001b[0m                         Traceback (most recent call last)",
      "\u001b[1;32m<ipython-input-13-0856f668c8b3>\u001b[0m in \u001b[0;36m<module>\u001b[1;34m\u001b[0m\n\u001b[0;32m     28\u001b[0m         \u001b[0moptimizer\u001b[0m\u001b[1;33m.\u001b[0m\u001b[0mstep\u001b[0m\u001b[1;33m(\u001b[0m\u001b[1;33m)\u001b[0m\u001b[1;33m\u001b[0m\u001b[1;33m\u001b[0m\u001b[0m\n\u001b[0;32m     29\u001b[0m         \u001b[1;31m# 统计损失值\u001b[0m\u001b[1;33m\u001b[0m\u001b[1;33m\u001b[0m\u001b[1;33m\u001b[0m\u001b[0m\n\u001b[1;32m---> 30\u001b[1;33m         \u001b[0mrunning_loss\u001b[0m \u001b[1;33m+=\u001b[0m \u001b[0mloss\u001b[0m\u001b[1;33m.\u001b[0m\u001b[0mitem\u001b[0m\u001b[1;33m(\u001b[0m\u001b[1;33m)\u001b[0m\u001b[1;33m\u001b[0m\u001b[1;33m\u001b[0m\u001b[0m\n\u001b[0m\u001b[0;32m     31\u001b[0m          \u001b[1;31m# 统计准确率\u001b[0m\u001b[1;33m\u001b[0m\u001b[1;33m\u001b[0m\u001b[1;33m\u001b[0m\u001b[0m\n\u001b[0;32m     32\u001b[0m         \u001b[0m_\u001b[0m\u001b[1;33m,\u001b[0m \u001b[0mpredicted\u001b[0m \u001b[1;33m=\u001b[0m \u001b[0mtorch\u001b[0m\u001b[1;33m.\u001b[0m\u001b[0mmax\u001b[0m\u001b[1;33m(\u001b[0m\u001b[0moutputs\u001b[0m\u001b[1;33m.\u001b[0m\u001b[0mdata\u001b[0m\u001b[1;33m,\u001b[0m \u001b[1;36m1\u001b[0m\u001b[1;33m)\u001b[0m\u001b[1;33m\u001b[0m\u001b[1;33m\u001b[0m\u001b[0m\n",
      "\u001b[1;31mKeyboardInterrupt\u001b[0m: "
     ]
    }
   ],
   "source": [
    "import matplotlib.pyplot as plt\n",
    "# 训练模型\n",
    "loss_list = []\n",
    "Acc = []\n",
    "num_epochs = 20\n",
    "for epoch in range(num_epochs):\n",
    "    running_loss = 0.0\n",
    "    correct = 0\n",
    "    total = 0\n",
    "    for i, data in enumerate(train_loader, 0):\n",
    "        # 获取输入数据和标签\n",
    "        image, inputs_ids = data['image'], data['input_ids']\n",
    "        labels = data['labels_id'].long()\n",
    "        image = image.to('cuda')\n",
    "        inputs_ids = inputs_ids.to('cuda')\n",
    "        labels = labels.to('cuda')\n",
    "        {'image':image, 'input_ids':inputs_ids}\n",
    "        # 将梯度归零\n",
    "        optimizer.zero_grad()\n",
    "        # 前向传递\n",
    "        outputs = MyModel({'image':image, 'input_ids':inputs_ids})\n",
    "        # 计算损失\n",
    "        # 一个batch中所有样本的平均损失\n",
    "        loss = criterion(outputs, labels)\n",
    "        # 反向传播\n",
    "        loss.backward()\n",
    "        # 更新权重\n",
    "        optimizer.step()\n",
    "        # 统计损失值\n",
    "        running_loss += loss.item() \n",
    "         # 统计准确率\n",
    "        _, predicted = torch.max(outputs.data, 1)\n",
    "        total += labels.size(0)\n",
    "        correct += (predicted == labels).sum().item()\n",
    "        \n",
    "        #  05/01 修改loss\n",
    "        # 每 10 批次打印一次统计信息\n",
    "        if i % 10 == 9:\n",
    "            print('[%d, %5d] loss: %.3f, accuracy: %.3f' %\n",
    "                  (epoch + 1, i + 1, running_loss / 10, correct / total))\n",
    "            # -------05/01-------------修改部分--------------------\n",
    "            loss_list.append(running_loss) \n",
    "            Acc.append(correct / total)\n",
    "            # -------05/01-------------修改部分--------------------\n",
    "            running_loss = 0.0    \n",
    "#         epoch_loss = running_loss / batch_size\n",
    "#         loss_list.append(epoch_loss)\n",
    "        \n",
    "        \n",
    "#         # 每 10 批次打印一次统计信息\n",
    "#         if i % 10 == 9:\n",
    "#             print('[%d, %5d] loss: %.3f, accuracy: %.3f' %\n",
    "#                   (epoch + 1, i + 1, running_loss / 10, correct / total))\n",
    "#             running_loss = 0.0\n",
    "        \n",
    "#         epoch_loss = running_loss / len(train_loader)\n",
    "#         loss_list.append(epoch_loss)\n",
    "        \n"
   ]
  },
  {
   "cell_type": "code",
   "execution_count": 14,
   "id": "531878fd",
   "metadata": {},
   "outputs": [
    {
     "data": {
      "image/png": "[encoded data removed]",
      "text/plain": [
       "<Figure size 432x288 with 1 Axes>"
      ]
     },
     "metadata": {
      "needs_background": "light"
     },
     "output_type": "display_data"
    },
    {
     "data": {
      "image/png": "[encoded data removed]",
      "text/plain": [
       "<Figure size 432x288 with 1 Axes>"
      ]
     },
     "metadata": {
      "needs_background": "light"
     },
     "output_type": "display_data"
    }
   ],
   "source": [
    "# 绘制loss下降图\n",
    "plt.plot(loss_list)\n",
    "plt.title('Training Loss')\n",
    "plt.xlabel('Epoch')\n",
    "plt.ylabel('Loss')\n",
    "plt.show()\n",
    "\n",
    "# 绘制Acc图\n",
    "plt.plot(Acc)\n",
    "plt.title('Accuracy')\n",
    "plt.xlabel('Epoch')\n",
    "plt.ylabel('Accuracy')\n",
    "plt.show()"
   ]
  },
  {
   "cell_type": "code",
   "execution_count": 15,
   "id": "4e6cf02d",
   "metadata": {},
   "outputs": [
    {
     "data": {
      "image/png": "[encoded data removed]",
      "text/plain": [
       "<Figure size 432x288 with 1 Axes>"
      ]
     },
     "metadata": {
      "needs_background": "light"
     },
     "output_type": "display_data"
    }
   ],
   "source": [
    "plt.plot(loss_list, label = 'Loss')\n",
    "plt.plot(Acc, label = 'Accuracy')\n",
    "plt.title('Loss and Accuracy')\n",
    "plt.xlabel('Epoch')\n",
    "plt.legend()\n",
    "plt.show()"
   ]
  },
  {
   "cell_type": "code",
   "execution_count": null,
   "id": "0451678f",
   "metadata": {},
   "outputs": [],
   "source": [
    "import matplotlib.pyplot as plt\n",
    "\n",
    "fig, ax1 = plt.subplots()\n",
    "\n",
    "color = 'tab:red'\n",
    "ax1.set_xlabel('Epoch')\n",
    "ax1.set_ylabel('Loss', color=color)\n",
    "ax1.plot(loss_list, color=color)\n",
    "ax1.tick_params(axis='y', labelcolor=color)\n",
    "\n",
    "ax2 = ax1.twinx()  # instantiate a second axes that shares the same x-axis\n",
    "\n",
    "color = 'tab:blue'\n",
    "ax2.set_ylabel('Accuracy', color=color)  # we already handled the x-label with ax1\n",
    "ax2.plot(Acc, color=color)\n",
    "ax2.tick_params(axis='y', labelcolor=color)\n",
    "\n",
    "fig.tight_layout()  # otherwise the right y-label is slightly clipped\n",
    "plt.show()\n"
   ]
  },
  {
   "cell_type": "code",
   "execution_count": null,
   "id": "cda65a31",
   "metadata": {},
   "outputs": [],
   "source": [
    "# 创建一个figure对象和Axes对象\n",
    "fig, ax = plt.subplots()\n",
    "\n",
    "# 在左侧y轴上绘制loss图\n",
    "ax.plot(loss_list, color='blue')\n",
    "ax.set_ylabel('Loss', color='blue')\n",
    "ax.tick_params(axis='y')\n",
    "\n",
    "# 在右侧y轴上绘制accuracy图\n",
    "ax2 = ax.twinx()\n",
    "ax2.plot(Acc, color='orange')\n",
    "ax2.set_ylabel('Accuracy', color='orange')\n",
    "ax2.tick_params(axis='y')\n",
    "\n",
    "# 设置x轴标签和标题\n",
    "ax.set_xlabel('Epoch')\n",
    "ax.set_title('Loss and Accuracy')\n",
    "\n",
    "# 设置y轴范围\n",
    "ax.set_ylim([0, 14])\n",
    "ax2.set_ylim([0.35, 1])\n",
    "\n",
    "# 显示图像\n",
    "plt.show()"
   ]
  },
  {
   "cell_type": "markdown",
   "id": "4ebdd92a",
   "metadata": {},
   "source": [
    "### 测试集Loss&Acc"
   ]
  },
  {
   "cell_type": "code",
   "execution_count": null,
   "id": "14744857",
   "metadata": {},
   "outputs": [
    {
     "name": "stdout",
     "output_type": "stream",
     "text": [
      "[14,    10]：accuracy: 0.425\n",
      "[14,    20]：accuracy: 0.408\n"
     ]
    }
   ],
   "source": [
    "correct = 0\n",
    "total = 0\n",
    "test_acc_list = []\n",
    "# 在测试集上禁用dropout和梯度计算\n",
    "MyModel.eval()\n",
    "\n",
    "with torch.no_grad():\n",
    "    for i, data in enumerate(test_loader, 0):\n",
    "        # 将数据移动到GPU（如果有的话）\n",
    "        image, inputs_ids = data['image'], data['input_ids']\n",
    "        labels = data['labels_id'].long()\n",
    "        image = image.to('cuda')\n",
    "        inputs_ids = inputs_ids.to('cuda')\n",
    "        labels = labels.to('cuda')\n",
    "        {'image':image, 'input_ids':inputs_ids}\n",
    "        # 将梯度归零\n",
    "        optimizer.zero_grad()\n",
    "        # 前向传递\n",
    "        outputs = MyModel({'image':image, 'input_ids':inputs_ids})\n",
    "        _, predicted = torch.max(outputs.data, 1)\n",
    "\n",
    "        # 统计正确预测的样本数和总样本数\n",
    "        total += labels.size(0)\n",
    "        correct += (predicted == labels).sum().item()\n",
    "        #  05/01 修改loss\n",
    "        # 每 10 批次打印一次统计信息\n",
    "        if i % 10 == 9:\n",
    "            print('[%d, %5d]：accuracy: %.3f' %\n",
    "                  (epoch + 1, i + 1, correct / total))\n",
    "            # -------05/01-------------修改部分--------------------\n",
    "            test_acc_list.append(correct / total)\n",
    "            # -------05/01-------------修改部分--------------------\n",
    "            running_loss = 0.0"
   ]
  },
  {
   "cell_type": "code",
   "execution_count": null,
   "id": "2f7d3880",
   "metadata": {},
   "outputs": [],
   "source": [
    "accuracy = 100 * correct / total\n",
    "print('Accuracy on the test set: %.2f%%' % accuracy)"
   ]
  },
  {
   "cell_type": "code",
   "execution_count": null,
   "id": "d36b476f",
   "metadata": {},
   "outputs": [],
   "source": [
    "plt.plot(test_acc_list)\n",
    "plt.title('Test Accuracy')\n",
    "plt.xlabel('Epoch')\n",
    "plt.ylabel('Accuracy')\n",
    "plt.show()"
   ]
  },
  {
   "cell_type": "code",
   "execution_count": null,
   "id": "e875accc",
   "metadata": {},
   "outputs": [],
   "source": []
  }
 ],
 "metadata": {
  "kernelspec": {
   "display_name": "nn6",
   "language": "python",
   "name": "nn6"
  },
  "language_info": {
   "codemirror_mode": {
    "name": "ipython",
    "version": 3
   },
   "file_extension": ".py",
   "mimetype": "text/x-python",
   "name": "python",
   "nbconvert_exporter": "python",
   "pygments_lexer": "ipython3",
   "version": "3.6.13"
  }
 },
 "nbformat": 4,
 "nbformat_minor": 5
}
