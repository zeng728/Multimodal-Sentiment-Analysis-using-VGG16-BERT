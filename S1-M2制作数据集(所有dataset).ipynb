{
 "cells": [
  {
   "cell_type": "code",
   "execution_count": 1,
   "id": "6b646124",
   "metadata": {},
   "outputs": [],
   "source": [
    "import h5py\n",
    "import os\n",
    "import numpy as np\n",
    "from PIL import Image\n",
    "import chardet\n",
    "import codecs\n",
    "\n",
    "# 设置数据集路径和图像大小\n",
    "data_path = 'MVSA_Single/data'\n",
    "img_size = (224, 224)\n",
    "max_len = 30\n",
    "# 读取标签文件\n",
    "labels = {}\n",
    "with open('MVSA_Single/labelFirst.txt', 'r') as f:\n",
    "    for line in f:\n",
    "        index, label = line.strip().split('\t')\n",
    "        labels[index] = label"
   ]
  },
  {
   "cell_type": "code",
   "execution_count": 2,
   "id": "0a95473b",
   "metadata": {},
   "outputs": [],
   "source": [
    "label_list = list(labels.values())\n",
    "index_list = list(labels.keys())"
   ]
  },
  {
   "cell_type": "code",
   "execution_count": 3,
   "id": "6efc1d87",
   "metadata": {},
   "outputs": [],
   "source": [
    "# 创建h5py文件并设置数据集\n",
    "with h5py.File('MVSA_Single/dataset.h5', 'w') as f:\n",
    "    # 首先创建存储图像的dataset\n",
    "    img_dataset = f.create_dataset('images', shape=(len(labels), img_size[0], img_size[1], 3), dtype='uint8')\n",
    "    \n",
    "    # 创建存储文字的dataset\n",
    "    text_dataset = f.create_dataset('texts', shape=(len(labels),), dtype=h5py.special_dtype(vlen=str))\n",
    "    \n",
    "    # 创建存储标签的dataset\n",
    "    label_dataset = f.create_dataset('labels', shape=(len(labels),), dtype=h5py.special_dtype(vlen=str))\n",
    "    label_dataset[:] = label_list\n",
    "    \n",
    "    # 处理每个图片-文本对并将其添加到相应的数据集中\n",
    "    for i in range(len(labels)):\n",
    "        # 读取图片和文本\n",
    "        img_filename = os.path.join(data_path, '{}.jpg'.format(index_list[i]))\n",
    "        txt_filename = os.path.join(data_path, '{}.txt'.format(index_list[i]))\n",
    "        with open(txt_filename, 'r', errors='ignore') as f:\n",
    "            txt = f.read().strip()\n",
    "        img = Image.open(img_filename)\n",
    "\n",
    "        # 将图像调整为指定大小，并对齐文字\n",
    "        width, height = img.size\n",
    "        if width > height:\n",
    "            scale_factor = float(img_size[0]) / float(height)\n",
    "            new_width = int(scale_factor * width)\n",
    "            img = img.resize((new_width, img_size[0]), resample=Image.LANCZOS)\n",
    "            offset = (new_width - img_size[1]) // 2\n",
    "            img = img.crop((offset, 0, offset + img_size[1], img_size[0]))\n",
    "        else:\n",
    "            scale_factor = float(img_size[1]) / float(width)\n",
    "            new_height = int(scale_factor * height)\n",
    "            img = img.resize((img_size[1], new_height), resample=Image.LANCZOS)\n",
    "            offset = (new_height - img_size[0]) // 2\n",
    "            img = img.crop((0, offset, img_size[1], offset + img_size[0]))\n",
    "        \n",
    "        # 将图片和文字添加到相应的数据集中\n",
    "        img_dataset[i] = np.asarray(img, dtype='uint8')\n",
    "        words = txt.split()\n",
    "        text_dataset[i] = txt\n",
    "       "
   ]
  },
  {
   "cell_type": "code",
   "execution_count": null,
   "id": "0ca46122",
   "metadata": {},
   "outputs": [],
   "source": []
  }
 ],
 "metadata": {
  "kernelspec": {
   "display_name": "nn6",
   "language": "python",
   "name": "nn6"
  },
  "language_info": {
   "codemirror_mode": {
    "name": "ipython",
    "version": 3
   },
   "file_extension": ".py",
   "mimetype": "text/x-python",
   "name": "python",
   "nbconvert_exporter": "python",
   "pygments_lexer": "ipython3",
   "version": "3.6.13"
  }
 },
 "nbformat": 4,
 "nbformat_minor": 5
}
