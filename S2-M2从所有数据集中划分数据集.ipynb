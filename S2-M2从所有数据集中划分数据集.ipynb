{
 "cells": [
  {
   "cell_type": "code",
   "execution_count": 1,
   "id": "1ad6dc83",
   "metadata": {},
   "outputs": [],
   "source": [
    "import h5py\n",
    "import numpy as np"
   ]
  },
  {
   "cell_type": "code",
   "execution_count": 2,
   "id": "202b661c",
   "metadata": {},
   "outputs": [],
   "source": [
    "def byte2str(data):\n",
    "    data = list(data)\n",
    "    for i, item in enumerate(data):\n",
    "        data[i] = item.decode('utf-8')\n",
    "    return data"
   ]
  },
  {
   "cell_type": "code",
   "execution_count": 3,
   "id": "7bd44413",
   "metadata": {},
   "outputs": [],
   "source": [
    "def load_dataset(file_path, train_ratio=0.8, random_seed=1):\n",
    "    # Load the dataset from the file\n",
    "    with h5py.File( file_path , 'r') as f:\n",
    "        data = {}\n",
    "        for key in f.keys():\n",
    "            data[key] = np.array(f[key])\n",
    "\n",
    "    # Shuffle the data indices\n",
    "    num_examples = len(data['labels'])\n",
    "    indices = np.arange(num_examples)\n",
    "    if random_seed is not None:\n",
    "        np.random.seed(random_seed)\n",
    "    np.random.shuffle(indices)\n",
    "\n",
    "    # Split the data into training and testing sets\n",
    "    split_index = int(num_examples * train_ratio)\n",
    "    train_indices = indices[:split_index]\n",
    "    test_indices = indices[split_index:]\n",
    "    train_data = {key: data[key][train_indices] for key in data}\n",
    "    test_data = {key: data[key][test_indices] for key in data}\n",
    "    \n",
    "    train_data['texts'], train_data['labels'] = byte2str(train_data['texts']), byte2str(train_data['labels'])\n",
    "    test_data['texts'], test_data['labels'] = byte2str(test_data['texts']), byte2str(test_data['labels'])\n",
    "    \n",
    "    label2id = {'negative': 0, 'neutral': 1, 'positive': 2}\n",
    "    train_data['labels_ids'] = [label2id[label] for label in train_data['labels']]\n",
    "    test_data['labels_ids'] = [label2id[label] for label in test_data['labels']]\n",
    "    \n",
    "    return train_data['images'], train_data['texts'], train_data['labels'], train_data['labels_ids'],\\\n",
    "           test_data['images'], test_data['texts'], test_data['labels'], test_data['labels_ids']\n"
   ]
  },
  {
   "cell_type": "code",
   "execution_count": 4,
   "id": "14a29533",
   "metadata": {},
   "outputs": [],
   "source": [
    "file_path = 'MVSA_Single/dataset.h5'\n",
    "train_data , test_data = {} , {} \n",
    "train_data['image'], train_data['text'], train_data['label'], train_data['labels_id'],\\\n",
    "test_data['image'], test_data['text'], test_data['label'], test_data['labels_id']\\\n",
    "= load_dataset(file_path)"
   ]
  },
  {
   "cell_type": "code",
   "execution_count": null,
   "id": "30b28dc4",
   "metadata": {},
   "outputs": [],
   "source": []
  }
 ],
 "metadata": {
  "kernelspec": {
   "display_name": "nn6",
   "language": "python",
   "name": "nn6"
  },
  "language_info": {
   "codemirror_mode": {
    "name": "ipython",
    "version": 3
   },
   "file_extension": ".py",
   "mimetype": "text/x-python",
   "name": "python",
   "nbconvert_exporter": "python",
   "pygments_lexer": "ipython3",
   "version": "3.6.13"
  }
 },
 "nbformat": 4,
 "nbformat_minor": 5
}
